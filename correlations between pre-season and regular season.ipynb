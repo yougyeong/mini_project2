{
 "cells": [
  {
   "cell_type": "code",
   "execution_count": 1,
   "id": "fe67c5ac",
   "metadata": {},
   "outputs": [],
   "source": [
    "import numpy as np\n",
    "import pandas as pd\n",
    "import seaborn as sns\n",
    "import matplotlib.pyplot as plt\n",
    "import time\n",
    "import plotly.express as px\n",
    "from datetime import datetime"
   ]
  },
  {
   "cell_type": "code",
   "execution_count": 2,
   "id": "0bec90ad",
   "metadata": {},
   "outputs": [],
   "source": [
    "pre = pd.read_csv('./Pre_Season_Batter.csv') #프리시즌\n",
    "regular = pd.read_csv('./statiz.csv') # 정규시즌"
   ]
  },
  {
   "cell_type": "code",
   "execution_count": 3,
   "id": "b239c98e",
   "metadata": {
    "scrolled": true
   },
   "outputs": [
    {
     "name": "stdout",
     "output_type": "stream",
     "text": [
      "<class 'pandas.core.frame.DataFrame'>\n",
      "RangeIndex: 1393 entries, 0 to 1392\n",
      "Data columns (total 29 columns):\n",
      " #   Column           Non-Null Count  Dtype  \n",
      "---  ------           --------------  -----  \n",
      " 0   batter_id        1393 non-null   int64  \n",
      " 1   batter_name      1393 non-null   object \n",
      " 2   year             1393 non-null   int64  \n",
      " 3   team             1393 non-null   object \n",
      " 4   avg              1393 non-null   object \n",
      " 5   G                1393 non-null   int64  \n",
      " 6   AB               1393 non-null   int64  \n",
      " 7   R                1393 non-null   int64  \n",
      " 8   H                1393 non-null   int64  \n",
      " 9   2B               1393 non-null   int64  \n",
      " 10  3B               1393 non-null   int64  \n",
      " 11  HR               1393 non-null   int64  \n",
      " 12  TB               1393 non-null   int64  \n",
      " 13  RBI              1393 non-null   int64  \n",
      " 14  SB               1393 non-null   int64  \n",
      " 15  CS               1393 non-null   int64  \n",
      " 16  BB               1393 non-null   int64  \n",
      " 17  HBP              1393 non-null   int64  \n",
      " 18  SO               1393 non-null   int64  \n",
      " 19  GDP              1393 non-null   int64  \n",
      " 20  SLG              1364 non-null   float64\n",
      " 21  OBP              1368 non-null   float64\n",
      " 22  E                1393 non-null   int64  \n",
      " 23  height/weight    1393 non-null   object \n",
      " 24  year_born        1393 non-null   object \n",
      " 25  position         1393 non-null   object \n",
      " 26  career           1393 non-null   object \n",
      " 27  starting_salary  1179 non-null   object \n",
      " 28  OPS              1364 non-null   float64\n",
      "dtypes: float64(3), int64(18), object(8)\n",
      "memory usage: 315.7+ KB\n"
     ]
    }
   ],
   "source": [
    "pre.info()"
   ]
  },
  {
   "cell_type": "code",
   "execution_count": 4,
   "id": "66a63700",
   "metadata": {
    "scrolled": true
   },
   "outputs": [
    {
     "name": "stdout",
     "output_type": "stream",
     "text": [
      "<class 'pandas.core.frame.DataFrame'>\n",
      "RangeIndex: 10023 entries, 0 to 10022\n",
      "Data columns (total 29 columns):\n",
      " #   Column  Non-Null Count  Dtype  \n",
      "---  ------  --------------  -----  \n",
      " 0   선수      10023 non-null  object \n",
      " 1   G       10023 non-null  int64  \n",
      " 2   타석      10023 non-null  int64  \n",
      " 3   타수      10023 non-null  int64  \n",
      " 4   득점      10023 non-null  int64  \n",
      " 5   안타      10023 non-null  int64  \n",
      " 6   2타      10023 non-null  int64  \n",
      " 7   3타      10023 non-null  int64  \n",
      " 8   홈런      10023 non-null  int64  \n",
      " 9   루타      10023 non-null  int64  \n",
      " 10  타점      10023 non-null  int64  \n",
      " 11  도루      10023 non-null  int64  \n",
      " 12  도실      10023 non-null  int64  \n",
      " 13  볼넷      10023 non-null  int64  \n",
      " 14  사구      10023 non-null  int64  \n",
      " 15  고4      10023 non-null  int64  \n",
      " 16  삼진      10023 non-null  int64  \n",
      " 17  병살      10023 non-null  int64  \n",
      " 18  희타      10023 non-null  int64  \n",
      " 19  희비      10023 non-null  int64  \n",
      " 20  타율      7623 non-null   float64\n",
      " 21  출루      8023 non-null   float64\n",
      " 22  장타      7623 non-null   float64\n",
      " 23  OPS     7623 non-null   float64\n",
      " 24  wOBA    8023 non-null   float64\n",
      " 25  wRC+    7423 non-null   float64\n",
      " 26  WAR+    10023 non-null  float64\n",
      " 27  생일      10023 non-null  object \n",
      " 28  시즌      10023 non-null  int64  \n",
      "dtypes: float64(7), int64(20), object(2)\n",
      "memory usage: 2.2+ MB\n"
     ]
    }
   ],
   "source": [
    "regular.info()"
   ]
  },
  {
   "cell_type": "code",
   "execution_count": 5,
   "id": "a77bf96a",
   "metadata": {
    "scrolled": true
   },
   "outputs": [
    {
     "data": {
      "text/html": [
       "<div>\n",
       "<style scoped>\n",
       "    .dataframe tbody tr th:only-of-type {\n",
       "        vertical-align: middle;\n",
       "    }\n",
       "\n",
       "    .dataframe tbody tr th {\n",
       "        vertical-align: top;\n",
       "    }\n",
       "\n",
       "    .dataframe thead th {\n",
       "        text-align: right;\n",
       "    }\n",
       "</style>\n",
       "<table border=\"1\" class=\"dataframe\">\n",
       "  <thead>\n",
       "    <tr style=\"text-align: right;\">\n",
       "      <th></th>\n",
       "      <th>batter_id</th>\n",
       "      <th>year</th>\n",
       "      <th>G</th>\n",
       "      <th>AB</th>\n",
       "      <th>R</th>\n",
       "      <th>H</th>\n",
       "      <th>2B</th>\n",
       "      <th>3B</th>\n",
       "      <th>HR</th>\n",
       "      <th>TB</th>\n",
       "      <th>...</th>\n",
       "      <th>SB</th>\n",
       "      <th>CS</th>\n",
       "      <th>BB</th>\n",
       "      <th>HBP</th>\n",
       "      <th>SO</th>\n",
       "      <th>GDP</th>\n",
       "      <th>SLG</th>\n",
       "      <th>OBP</th>\n",
       "      <th>E</th>\n",
       "      <th>OPS</th>\n",
       "    </tr>\n",
       "  </thead>\n",
       "  <tbody>\n",
       "    <tr>\n",
       "      <th>count</th>\n",
       "      <td>1393.000000</td>\n",
       "      <td>1393.000000</td>\n",
       "      <td>1393.000000</td>\n",
       "      <td>1393.000000</td>\n",
       "      <td>1393.000000</td>\n",
       "      <td>1393.000000</td>\n",
       "      <td>1393.000000</td>\n",
       "      <td>1393.000000</td>\n",
       "      <td>1393.000000</td>\n",
       "      <td>1393.000000</td>\n",
       "      <td>...</td>\n",
       "      <td>1393.000000</td>\n",
       "      <td>1393.000000</td>\n",
       "      <td>1393.000000</td>\n",
       "      <td>1393.000000</td>\n",
       "      <td>1393.000000</td>\n",
       "      <td>1393.000000</td>\n",
       "      <td>1364.000000</td>\n",
       "      <td>1368.000000</td>\n",
       "      <td>1393.000000</td>\n",
       "      <td>1364.000000</td>\n",
       "    </tr>\n",
       "    <tr>\n",
       "      <th>mean</th>\n",
       "      <td>173.434314</td>\n",
       "      <td>2013.014358</td>\n",
       "      <td>8.705671</td>\n",
       "      <td>19.201723</td>\n",
       "      <td>2.679828</td>\n",
       "      <td>5.021536</td>\n",
       "      <td>0.954774</td>\n",
       "      <td>0.119885</td>\n",
       "      <td>0.391960</td>\n",
       "      <td>7.391960</td>\n",
       "      <td>...</td>\n",
       "      <td>0.629576</td>\n",
       "      <td>0.291457</td>\n",
       "      <td>1.877961</td>\n",
       "      <td>0.330223</td>\n",
       "      <td>3.714286</td>\n",
       "      <td>0.447236</td>\n",
       "      <td>0.361012</td>\n",
       "      <td>0.317912</td>\n",
       "      <td>0.381910</td>\n",
       "      <td>0.676924</td>\n",
       "    </tr>\n",
       "    <tr>\n",
       "      <th>std</th>\n",
       "      <td>94.716851</td>\n",
       "      <td>4.166757</td>\n",
       "      <td>5.562686</td>\n",
       "      <td>13.395946</td>\n",
       "      <td>2.637212</td>\n",
       "      <td>4.232584</td>\n",
       "      <td>1.196904</td>\n",
       "      <td>0.379976</td>\n",
       "      <td>0.748557</td>\n",
       "      <td>6.538787</td>\n",
       "      <td>...</td>\n",
       "      <td>1.146854</td>\n",
       "      <td>0.595522</td>\n",
       "      <td>2.053392</td>\n",
       "      <td>0.642204</td>\n",
       "      <td>3.180884</td>\n",
       "      <td>0.723364</td>\n",
       "      <td>0.269892</td>\n",
       "      <td>0.151489</td>\n",
       "      <td>0.729521</td>\n",
       "      <td>0.386933</td>\n",
       "    </tr>\n",
       "    <tr>\n",
       "      <th>min</th>\n",
       "      <td>0.000000</td>\n",
       "      <td>2002.000000</td>\n",
       "      <td>1.000000</td>\n",
       "      <td>0.000000</td>\n",
       "      <td>0.000000</td>\n",
       "      <td>0.000000</td>\n",
       "      <td>0.000000</td>\n",
       "      <td>0.000000</td>\n",
       "      <td>0.000000</td>\n",
       "      <td>0.000000</td>\n",
       "      <td>...</td>\n",
       "      <td>0.000000</td>\n",
       "      <td>0.000000</td>\n",
       "      <td>0.000000</td>\n",
       "      <td>0.000000</td>\n",
       "      <td>0.000000</td>\n",
       "      <td>0.000000</td>\n",
       "      <td>0.000000</td>\n",
       "      <td>0.000000</td>\n",
       "      <td>0.000000</td>\n",
       "      <td>0.000000</td>\n",
       "    </tr>\n",
       "    <tr>\n",
       "      <th>25%</th>\n",
       "      <td>99.000000</td>\n",
       "      <td>2010.000000</td>\n",
       "      <td>6.000000</td>\n",
       "      <td>9.000000</td>\n",
       "      <td>1.000000</td>\n",
       "      <td>2.000000</td>\n",
       "      <td>0.000000</td>\n",
       "      <td>0.000000</td>\n",
       "      <td>0.000000</td>\n",
       "      <td>2.000000</td>\n",
       "      <td>...</td>\n",
       "      <td>0.000000</td>\n",
       "      <td>0.000000</td>\n",
       "      <td>0.000000</td>\n",
       "      <td>0.000000</td>\n",
       "      <td>1.000000</td>\n",
       "      <td>0.000000</td>\n",
       "      <td>0.217000</td>\n",
       "      <td>0.250000</td>\n",
       "      <td>0.000000</td>\n",
       "      <td>0.472000</td>\n",
       "    </tr>\n",
       "    <tr>\n",
       "      <th>50%</th>\n",
       "      <td>178.000000</td>\n",
       "      <td>2014.000000</td>\n",
       "      <td>9.000000</td>\n",
       "      <td>18.000000</td>\n",
       "      <td>2.000000</td>\n",
       "      <td>4.000000</td>\n",
       "      <td>1.000000</td>\n",
       "      <td>0.000000</td>\n",
       "      <td>0.000000</td>\n",
       "      <td>6.000000</td>\n",
       "      <td>...</td>\n",
       "      <td>0.000000</td>\n",
       "      <td>0.000000</td>\n",
       "      <td>1.000000</td>\n",
       "      <td>0.000000</td>\n",
       "      <td>3.000000</td>\n",
       "      <td>0.000000</td>\n",
       "      <td>0.344500</td>\n",
       "      <td>0.333000</td>\n",
       "      <td>0.000000</td>\n",
       "      <td>0.675000</td>\n",
       "    </tr>\n",
       "    <tr>\n",
       "      <th>75%</th>\n",
       "      <td>254.000000</td>\n",
       "      <td>2017.000000</td>\n",
       "      <td>11.000000</td>\n",
       "      <td>28.000000</td>\n",
       "      <td>4.000000</td>\n",
       "      <td>8.000000</td>\n",
       "      <td>2.000000</td>\n",
       "      <td>0.000000</td>\n",
       "      <td>1.000000</td>\n",
       "      <td>11.000000</td>\n",
       "      <td>...</td>\n",
       "      <td>1.000000</td>\n",
       "      <td>0.000000</td>\n",
       "      <td>3.000000</td>\n",
       "      <td>1.000000</td>\n",
       "      <td>5.000000</td>\n",
       "      <td>1.000000</td>\n",
       "      <td>0.478000</td>\n",
       "      <td>0.400000</td>\n",
       "      <td>1.000000</td>\n",
       "      <td>0.867000</td>\n",
       "    </tr>\n",
       "    <tr>\n",
       "      <th>max</th>\n",
       "      <td>344.000000</td>\n",
       "      <td>2018.000000</td>\n",
       "      <td>119.000000</td>\n",
       "      <td>183.000000</td>\n",
       "      <td>35.000000</td>\n",
       "      <td>51.000000</td>\n",
       "      <td>11.000000</td>\n",
       "      <td>4.000000</td>\n",
       "      <td>5.000000</td>\n",
       "      <td>68.000000</td>\n",
       "      <td>...</td>\n",
       "      <td>9.000000</td>\n",
       "      <td>4.000000</td>\n",
       "      <td>21.000000</td>\n",
       "      <td>4.000000</td>\n",
       "      <td>36.000000</td>\n",
       "      <td>5.000000</td>\n",
       "      <td>4.000000</td>\n",
       "      <td>1.000000</td>\n",
       "      <td>5.000000</td>\n",
       "      <td>5.000000</td>\n",
       "    </tr>\n",
       "  </tbody>\n",
       "</table>\n",
       "<p>8 rows × 21 columns</p>\n",
       "</div>"
      ],
      "text/plain": [
       "         batter_id         year            G           AB            R  \\\n",
       "count  1393.000000  1393.000000  1393.000000  1393.000000  1393.000000   \n",
       "mean    173.434314  2013.014358     8.705671    19.201723     2.679828   \n",
       "std      94.716851     4.166757     5.562686    13.395946     2.637212   \n",
       "min       0.000000  2002.000000     1.000000     0.000000     0.000000   \n",
       "25%      99.000000  2010.000000     6.000000     9.000000     1.000000   \n",
       "50%     178.000000  2014.000000     9.000000    18.000000     2.000000   \n",
       "75%     254.000000  2017.000000    11.000000    28.000000     4.000000   \n",
       "max     344.000000  2018.000000   119.000000   183.000000    35.000000   \n",
       "\n",
       "                 H           2B           3B           HR           TB  ...  \\\n",
       "count  1393.000000  1393.000000  1393.000000  1393.000000  1393.000000  ...   \n",
       "mean      5.021536     0.954774     0.119885     0.391960     7.391960  ...   \n",
       "std       4.232584     1.196904     0.379976     0.748557     6.538787  ...   \n",
       "min       0.000000     0.000000     0.000000     0.000000     0.000000  ...   \n",
       "25%       2.000000     0.000000     0.000000     0.000000     2.000000  ...   \n",
       "50%       4.000000     1.000000     0.000000     0.000000     6.000000  ...   \n",
       "75%       8.000000     2.000000     0.000000     1.000000    11.000000  ...   \n",
       "max      51.000000    11.000000     4.000000     5.000000    68.000000  ...   \n",
       "\n",
       "                SB           CS           BB          HBP           SO  \\\n",
       "count  1393.000000  1393.000000  1393.000000  1393.000000  1393.000000   \n",
       "mean      0.629576     0.291457     1.877961     0.330223     3.714286   \n",
       "std       1.146854     0.595522     2.053392     0.642204     3.180884   \n",
       "min       0.000000     0.000000     0.000000     0.000000     0.000000   \n",
       "25%       0.000000     0.000000     0.000000     0.000000     1.000000   \n",
       "50%       0.000000     0.000000     1.000000     0.000000     3.000000   \n",
       "75%       1.000000     0.000000     3.000000     1.000000     5.000000   \n",
       "max       9.000000     4.000000    21.000000     4.000000    36.000000   \n",
       "\n",
       "               GDP          SLG          OBP            E          OPS  \n",
       "count  1393.000000  1364.000000  1368.000000  1393.000000  1364.000000  \n",
       "mean      0.447236     0.361012     0.317912     0.381910     0.676924  \n",
       "std       0.723364     0.269892     0.151489     0.729521     0.386933  \n",
       "min       0.000000     0.000000     0.000000     0.000000     0.000000  \n",
       "25%       0.000000     0.217000     0.250000     0.000000     0.472000  \n",
       "50%       0.000000     0.344500     0.333000     0.000000     0.675000  \n",
       "75%       1.000000     0.478000     0.400000     1.000000     0.867000  \n",
       "max       5.000000     4.000000     1.000000     5.000000     5.000000  \n",
       "\n",
       "[8 rows x 21 columns]"
      ]
     },
     "execution_count": 5,
     "metadata": {},
     "output_type": "execute_result"
    }
   ],
   "source": [
    "# 데이터 요약\n",
    "pre.describe()"
   ]
  },
  {
   "cell_type": "code",
   "execution_count": 6,
   "id": "3d19b02b",
   "metadata": {},
   "outputs": [
    {
     "data": {
      "text/plain": [
       "batter_id            0\n",
       "batter_name          0\n",
       "year                 0\n",
       "team                 0\n",
       "avg                  0\n",
       "G                    0\n",
       "AB                   0\n",
       "R                    0\n",
       "H                    0\n",
       "2B                   0\n",
       "3B                   0\n",
       "HR                   0\n",
       "TB                   0\n",
       "RBI                  0\n",
       "SB                   0\n",
       "CS                   0\n",
       "BB                   0\n",
       "HBP                  0\n",
       "SO                   0\n",
       "GDP                  0\n",
       "SLG                 29\n",
       "OBP                 25\n",
       "E                    0\n",
       "height/weight        0\n",
       "year_born            0\n",
       "position             0\n",
       "career               0\n",
       "starting_salary    214\n",
       "OPS                 29\n",
       "dtype: int64"
      ]
     },
     "execution_count": 6,
     "metadata": {},
     "output_type": "execute_result"
    }
   ],
   "source": [
    "#결측치 확인\n",
    "pre.isnull().sum()"
   ]
  },
  {
   "cell_type": "code",
   "execution_count": 8,
   "id": "ed57ec19",
   "metadata": {},
   "outputs": [],
   "source": [
    "# matplotlib 한글 출력 가능하도록 만들기\n",
    "from matplotlib import font_manager, rc\n",
    "font_name = font_manager.FontProperties(fname=\"c:/Windows/Fonts/malgun.ttf\").get_name()\n",
    "rc('font', family=font_name)"
   ]
  },
  {
   "cell_type": "code",
   "execution_count": 9,
   "id": "8715f635",
   "metadata": {},
   "outputs": [
    {
     "data": {
      "image/png": "[encoded data removed]",
      "text/plain": [
       "<Figure size 1080x1080 with 20 Axes>"
      ]
     },
     "metadata": {
      "needs_background": "light"
     },
     "output_type": "display_data"
    }
   ],
   "source": [
    "#수치형 데이터 분포도 확인\n",
    "#프리시즌 \n",
    "pre.iloc[:, 1:].hist(figsize=(15,15))\n",
    "plt.tight_layout()\n",
    "plt.show()"
   ]
  },
  {
   "cell_type": "code",
   "execution_count": 10,
   "id": "e768d951",
   "metadata": {
    "scrolled": true
   },
   "outputs": [
    {
     "data": {
      "image/png": "[encoded data removed]",
      "text/plain": [
       "<Figure size 1080x1080 with 30 Axes>"
      ]
     },
     "metadata": {
      "needs_background": "light"
     },
     "output_type": "display_data"
    }
   ],
   "source": [
    "#정규시즌 \n",
    "regular.iloc[:, 1:].hist(figsize=(15,15))\n",
    "plt.tight_layout()\n",
    "plt.show()"
   ]
  },
  {
   "cell_type": "markdown",
   "id": "75d0100d",
   "metadata": {},
   "source": [
    "- 프리시즌과 정규시즌을 비교해보면 정규시즌에 비해 프리시즌의 경기수가 적기때문에 데이터가 부족한 것을 볼 수 있다.\n",
    "- 정규시즌이 프리시즌에 비해 값의 범위가 더 넓어졌다.\n",
    "- 프리시즌 데이터들은 0에 치우쳐 있던 것에 비해, 정규시즌 데이터들은 0이 아닌 값들로 분포를 이루고 있다."
   ]
  },
  {
   "cell_type": "markdown",
   "id": "c28fed29",
   "metadata": {},
   "source": [
    "# 프리시즌과 정규시즌의 상관관계\n",
    "- 위에서 데이터 차이확인\n",
    "- 그해의 정규시즌의 선수리스트 자료와 프리시즌 선수 리스트의 자료의 교집합있나 확인"
   ]
  },
  {
   "cell_type": "code",
   "execution_count": 11,
   "id": "fcef4a4b",
   "metadata": {},
   "outputs": [
    {
     "data": {
      "text/plain": [
       "0        1994\n",
       "1        2015\n",
       "2        2003\n",
       "3        1997\n",
       "4        1996\n",
       "         ... \n",
       "10018    2022\n",
       "10019    1999\n",
       "10020    2018\n",
       "10021    2007\n",
       "10022    1986\n",
       "Name: 시즌, Length: 10023, dtype: int64"
      ]
     },
     "execution_count": 11,
     "metadata": {},
     "output_type": "execute_result"
    }
   ],
   "source": [
    "regular['시즌']"
   ]
  },
  {
   "cell_type": "code",
   "execution_count": 12,
   "id": "e5864d6b",
   "metadata": {},
   "outputs": [
    {
     "data": {
      "text/plain": [
       "0       2018\n",
       "1       2011\n",
       "2       2014\n",
       "3       2015\n",
       "4       2016\n",
       "        ... \n",
       "1388    2014\n",
       "1389    2015\n",
       "1390    2016\n",
       "1391    2018\n",
       "1392    2014\n",
       "Name: year, Length: 1393, dtype: int64"
      ]
     },
     "execution_count": 12,
     "metadata": {},
     "output_type": "execute_result"
    }
   ],
   "source": [
    "pre['year']"
   ]
  },
  {
   "cell_type": "code",
   "execution_count": 13,
   "id": "b64aa783",
   "metadata": {},
   "outputs": [],
   "source": [
    "regular['new_idx']= regular['시즌'].apply(str)+regular['이름']\n",
    "pre['new_idx']= pre['year'].apply(str)+pre['batter_name']"
   ]
  },
  {
   "cell_type": "code",
   "execution_count": 14,
   "id": "f4728f28",
   "metadata": {},
   "outputs": [
    {
     "data": {
      "text/plain": [
       "0        이종범\n",
       "1        테임즈\n",
       "2        심정수\n",
       "3        이종범\n",
       "4        이종범\n",
       "        ... \n",
       "10018    김헌곤\n",
       "10019    김영진\n",
       "10020    나균안\n",
       "10021    이종범\n",
       "10022    권두조\n",
       "Name: new_idx, Length: 10023, dtype: object"
      ]
     },
     "execution_count": 14,
     "metadata": {},
     "output_type": "execute_result"
    }
   ],
   "source": [
    "regular['new_idx'].str[4:7]"
   ]
  },
  {
   "cell_type": "code",
   "execution_count": 15,
   "id": "f91535bc",
   "metadata": {},
   "outputs": [
    {
     "data": {
      "text/plain": [
       "0       가르시\n",
       "1       강경학\n",
       "2       강경학\n",
       "3       강경학\n",
       "4       강경학\n",
       "       ... \n",
       "1388    황재균\n",
       "1389    황재균\n",
       "1390    황재균\n",
       "1391    황재균\n",
       "1392    황진수\n",
       "Name: new_idx, Length: 1393, dtype: object"
      ]
     },
     "execution_count": 15,
     "metadata": {},
     "output_type": "execute_result"
    }
   ],
   "source": [
    "pre['new_idx'].str[4:7]"
   ]
  },
  {
   "cell_type": "code",
   "execution_count": 16,
   "id": "3c517a8e",
   "metadata": {},
   "outputs": [
    {
     "data": {
      "text/plain": [
       "['양의지',\n",
       " '송민섭',\n",
       " '권정웅',\n",
       " '박광열',\n",
       " '김태완',\n",
       " '강민국',\n",
       " '김재성',\n",
       " '김사훈',\n",
       " '이범호',\n",
       " '이영욱',\n",
       " '주효상',\n",
       " '박민우',\n",
       " '김하성',\n",
       " '강승호',\n",
       " '김민식',\n",
       " '황진수',\n",
       " '하준호',\n",
       " '강경학',\n",
       " '이동훈',\n",
       " '윤정우',\n",
       " '나원탁',\n",
       " '임종혁',\n",
       " '박경수',\n",
       " '장민석',\n",
       " '오정복',\n",
       " '박헌도',\n",
       " '서동욱',\n",
       " '김헌곤',\n",
       " '강민호',\n",
       " '강백호',\n",
       " '이용규',\n",
       " '정수빈',\n",
       " '최정민',\n",
       " '김재환',\n",
       " '이재율',\n",
       " '장준원',\n",
       " '정병곤',\n",
       " '이성열',\n",
       " '최재훈',\n",
       " '송광민',\n",
       " '신종길',\n",
       " '장진혁',\n",
       " '최승준',\n",
       " '초이스',\n",
       " '오태곤',\n",
       " '문선재',\n",
       " '김응민',\n",
       " '오재일',\n",
       " '안익훈',\n",
       " '정범모',\n",
       " '김재율',\n",
       " '이성곤',\n",
       " '최영진',\n",
       " '홍재호',\n",
       " '허도환',\n",
       " '이해창',\n",
       " '양종민',\n",
       " '박준태',\n",
       " '박용택',\n",
       " '박석민',\n",
       " '러프',\n",
       " '이종욱',\n",
       " '호잉',\n",
       " '박건우',\n",
       " '박동원',\n",
       " '류지혁',\n",
       " '김진곤',\n",
       " '스크럭',\n",
       " '오선진',\n",
       " '이준수',\n",
       " '정주현',\n",
       " '최형우',\n",
       " '이택근',\n",
       " '손주인',\n",
       " '서건창',\n",
       " '버나디',\n",
       " '박지규',\n",
       " '박세혁',\n",
       " '이형종',\n",
       " '최윤석',\n",
       " '이원석',\n",
       " '김성욱',\n",
       " '모창민',\n",
       " '박정권',\n",
       " '박승욱',\n",
       " '오지환',\n",
       " '유한준',\n",
       " '김동욱',\n",
       " '신본기',\n",
       " '이재원',\n",
       " '정성훈',\n",
       " '허경민',\n",
       " '나주환',\n",
       " '김강민',\n",
       " '임훈',\n",
       " '국해성',\n",
       " '백용환',\n",
       " '안중열',\n",
       " '조윤준',\n",
       " '이정후',\n",
       " '백상원',\n",
       " '장시윤',\n",
       " '조홍석',\n",
       " '이우성',\n",
       " '강구성',\n",
       " '조동화',\n",
       " '남태혁',\n",
       " '강진성',\n",
       " '최원제',\n",
       " '최원준',\n",
       " '황윤호',\n",
       " '이호신',\n",
       " '윤병호',\n",
       " '윤석민',\n",
       " '이준호',\n",
       " '김민성',\n",
       " '신범수',\n",
       " '최항',\n",
       " '박한이',\n",
       " '고종욱',\n",
       " '이진영',\n",
       " '김인태',\n",
       " '배영섭',\n",
       " '이대형',\n",
       " '정진기',\n",
       " '노진혁',\n",
       " '김민하',\n",
       " '심우준',\n",
       " '최준석',\n",
       " '윤수강',\n",
       " '김성훈',\n",
       " '엄태용',\n",
       " '이지영',\n",
       " '이천웅',\n",
       " '박병호',\n",
       " '김재호',\n",
       " '임병욱',\n",
       " '최진행',\n",
       " '김동한',\n",
       " '나성범',\n",
       " '장승현',\n",
       " '이인행',\n",
       " '서상우',\n",
       " '한동희',\n",
       " '한승택',\n",
       " '전준우',\n",
       " '김성현',\n",
       " '유강남',\n",
       " '장영석',\n",
       " '홍창기',\n",
       " '최정',\n",
       " '정진호',\n",
       " '정경운',\n",
       " '강상원',\n",
       " '김민수',\n",
       " '김문호',\n",
       " '김상호',\n",
       " '로맥',\n",
       " '조수행',\n",
       " '문규현',\n",
       " '지석훈',\n",
       " '전병우',\n",
       " '장성우',\n",
       " '하주석',\n",
       " '나지완',\n",
       " '신성현',\n",
       " '노수광',\n",
       " '채은성',\n",
       " '지성준',\n",
       " '김회성',\n",
       " '이대호',\n",
       " '김현수',\n",
       " '배정대',\n",
       " '이흥련',\n",
       " '홍성갑',\n",
       " '번즈',\n",
       " '조평호',\n",
       " '박찬도',\n",
       " '조동찬',\n",
       " '민병헌',\n",
       " '로하스',\n",
       " '양석환',\n",
       " '나경민',\n",
       " '박기혁',\n",
       " '손시헌',\n",
       " '송성문',\n",
       " '이상호',\n",
       " '손아섭',\n",
       " '김주형',\n",
       " '황재균',\n",
       " '정근우',\n",
       " '강한울',\n",
       " '정현',\n",
       " '김선빈',\n",
       " '권희동',\n",
       " '정훈',\n",
       " '최주환',\n",
       " '구자욱',\n",
       " '유재신',\n",
       " '유민상',\n",
       " '박해민',\n",
       " '도태훈',\n",
       " '박정음',\n",
       " '김태균',\n",
       " '백창수',\n",
       " '윤진호',\n",
       " '정주후',\n",
       " '이명기',\n",
       " '김상수',\n",
       " '오재원',\n",
       " '이대수',\n",
       " '김태진',\n",
       " '정의윤',\n",
       " '김태연',\n",
       " '김재현',\n",
       " '채태인',\n",
       " '김지수',\n",
       " '김주찬',\n",
       " '이성우',\n",
       " '양성우',\n",
       " '가르시',\n",
       " '정상호',\n",
       " '김혜성',\n",
       " '김용의',\n",
       " '김동엽',\n",
       " '안치홍']"
      ]
     },
     "execution_count": 16,
     "metadata": {},
     "output_type": "execute_result"
    }
   ],
   "source": [
    "set_new_idx1 = set(regular['new_idx'].str[4:7])\n",
    "set_new_idx2 = set(pre['new_idx'].str[4:7])\n",
    "\n",
    "list(set_new_idx1.intersection(set_new_idx2))"
   ]
  },
  {
   "cell_type": "code",
   "execution_count": 17,
   "id": "55027940",
   "metadata": {},
   "outputs": [],
   "source": [
    "# 교집합 만들기\n",
    "intersection_idx = list(set(regular['new_idx'].str[4:7]).intersection(pre['new_idx'].str[4:7]))"
   ]
  },
  {
   "cell_type": "code",
   "execution_count": 18,
   "id": "d2baeb26",
   "metadata": {},
   "outputs": [],
   "source": [
    "# 교집합으로 구한 new_idx를 활용해 각 df을 인덱싱해준다.\n",
    "intersection_idx_for_regular = regular['new_idx'].str[4:7].apply(lambda x: x in intersection_idx)\n",
    "intersection_idx_for_pre = pre['new_idx'].str[4:7].apply(lambda x: x in intersection_idx)\n",
    "\n",
    "regular_new = regular.loc[intersection_idx_for_regular].copy()\n",
    "pre_new = pre.loc[intersection_idx_for_pre].copy()"
   ]
  },
  {
   "cell_type": "code",
   "execution_count": 19,
   "id": "de2f56e1",
   "metadata": {},
   "outputs": [],
   "source": [
    "# new dataframe 정렬하기\n",
    "regular_new = regular_new.sort_values(by='new_idx').reset_index(drop=True)\n",
    "pre_new = pre_new.sort_values(by='new_idx').reset_index(drop=True)"
   ]
  },
  {
   "cell_type": "code",
   "execution_count": 20,
   "id": "249f2e23",
   "metadata": {
    "scrolled": true
   },
   "outputs": [
    {
     "data": {
      "text/plain": [
       "0       0.797\n",
       "1       0.624\n",
       "2       0.756\n",
       "3       0.657\n",
       "4       0.745\n",
       "        ...  \n",
       "2335    0.495\n",
       "2336    0.767\n",
       "2337    0.606\n",
       "2338    0.759\n",
       "2339    0.717\n",
       "Name: OPS, Length: 2340, dtype: float64"
      ]
     },
     "execution_count": 20,
     "metadata": {},
     "output_type": "execute_result"
    }
   ],
   "source": [
    "regular_new['OPS']"
   ]
  },
  {
   "cell_type": "code",
   "execution_count": 21,
   "id": "2b462d5a",
   "metadata": {},
   "outputs": [
    {
     "data": {
      "text/plain": [
       "0       0.274\n",
       "1       0.804\n",
       "2       0.000\n",
       "3         NaN\n",
       "4       0.807\n",
       "        ...  \n",
       "1380    0.000\n",
       "1381    0.966\n",
       "1382    0.666\n",
       "1383    0.000\n",
       "1384    0.833\n",
       "Name: OPS, Length: 1385, dtype: float64"
      ]
     },
     "execution_count": 21,
     "metadata": {},
     "output_type": "execute_result"
    }
   ],
   "source": [
    "pre_new['OPS']"
   ]
  },
  {
   "cell_type": "code",
   "execution_count": 22,
   "id": "7e04b578",
   "metadata": {},
   "outputs": [
    {
     "name": "stdout",
     "output_type": "stream",
     "text": [
      "(10023, 31) (2340, 31) (1393, 30) (1385, 30)\n"
     ]
    }
   ],
   "source": [
    "print(regular.shape, regular_new.shape, pre.shape, pre_new.shape)"
   ]
  },
  {
   "cell_type": "code",
   "execution_count": 23,
   "id": "a80bbf12",
   "metadata": {},
   "outputs": [
    {
     "data": {
      "text/plain": [
       "0.018190017547940158"
      ]
     },
     "execution_count": 23,
     "metadata": {},
     "output_type": "execute_result"
    }
   ],
   "source": [
    "correlation =regular_new['OPS'].corr(pre_new['OPS'])\n",
    "correlation"
   ]
  },
  {
   "cell_type": "code",
   "execution_count": 24,
   "id": "7ce9fdf1",
   "metadata": {
    "scrolled": true
   },
   "outputs": [
    {
     "name": "stderr",
     "output_type": "stream",
     "text": [
      "C:\\Users\\dhdbr\\anaconda3\\lib\\site-packages\\seaborn\\_decorators.py:36: FutureWarning: Pass the following variables as keyword args: x, y. From version 0.12, the only valid positional argument will be `data`, and passing other arguments without an explicit keyword will result in an error or misinterpretation.\n",
      "  warnings.warn(\n"
     ]
    },
    {
     "data": {
      "image/png": "[encoded data removed]",
      "text/plain": [
       "<Figure size 432x288 with 1 Axes>"
      ]
     },
     "metadata": {
      "needs_background": "light"
     },
     "output_type": "display_data"
    }
   ],
   "source": [
    "sns.scatterplot(regular_new['OPS'], pre_new['OPS'], color='grey')\n",
    "plt.title('correlation: '+str(np.round(correlation,3)), fontsize=20)\n",
    "plt.xlabel=('regular OPS')\n",
    "plt.ylabel=('pre OPS')\n",
    "plt.show()"
   ]
  },
  {
   "cell_type": "markdown",
   "id": "0a65e077",
   "metadata": {},
   "source": [
    "- 정규시즌과 프리시즌의 상관관계는 0.018의 값을 얻었다.\n",
    "- 서로 관련이 없는걸로 보아 프리시즌 데이터는 예측에 사용하지 않는다."
   ]
  }
 ],
 "metadata": {
  "kernelspec": {
   "display_name": "Python 3 (ipykernel)",
   "language": "python",
   "name": "python3"
  },
  "language_info": {
   "codemirror_mode": {
    "name": "ipython",
    "version": 3
   },
   "file_extension": ".py",
   "mimetype": "text/x-python",
   "name": "python",
   "nbconvert_exporter": "python",
   "pygments_lexer": "ipython3",
   "version": "3.9.12"
  }
 },
 "nbformat": 4,
 "nbformat_minor": 5
}
