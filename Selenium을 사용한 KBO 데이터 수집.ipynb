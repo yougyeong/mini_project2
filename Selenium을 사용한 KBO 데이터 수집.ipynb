{
 "cells": [
  {
   "cell_type": "markdown",
   "metadata": {},
   "source": [
    "# KBO\n",
    "### Selenium을 사용하여 데이터 수집하는 방법을 살펴보겠습니다.\n"
   ]
  },
  {
   "cell_type": "code",
   "execution_count": 2,
   "metadata": {},
   "outputs": [
    {
     "name": "stdout",
     "output_type": "stream",
     "text": [
      "Collecting selenium\n",
      "  Downloading selenium-3.141.0-py2.py3-none-any.whl (904 kB)\n",
      "Requirement already satisfied: urllib3 in c:\\users\\howil\\anaconda3\\lib\\site-packages (from selenium) (1.25.11)\n",
      "Installing collected packages: selenium\n",
      "Successfully installed selenium-3.141.0\n"
     ]
    }
   ],
   "source": [
    "!pip install selenium"
   ]
  },
  {
   "cell_type": "code",
   "execution_count": 1,
   "metadata": {},
   "outputs": [],
   "source": [
    "from selenium import webdriver\n",
    "from bs4 import BeautifulSoup as BS\n",
    "import re\n",
    "import requests\n",
    "from urllib import request\n",
    "import pandas as pd"
   ]
  },
  {
   "cell_type": "markdown",
   "metadata": {},
   "source": [
    "* 정규식 패턴을 사용합니다. \n",
    "    * 아래 정규식 패턴은 playerId의 숫자값을 추출하는 정규식입니다."
   ]
  },
  {
   "cell_type": "code",
   "execution_count": 2,
   "metadata": {},
   "outputs": [],
   "source": [
    "pattern = re.compile(\"playerId=([0-9]+)\")"
   ]
  },
  {
   "cell_type": "markdown",
   "metadata": {},
   "source": [
    "* Selenium을 사용하기 위해서는 브라우저의 드라이버를 설정해야 합니다. \n",
    "    * 이번 예제는 크롬 브라우저를 사용하기 때문에 크롬 드라이버를 선택해줍니다. \n",
    "    * 다운로드\n",
    "    * https://chromedriver.chromium.org/downloads"
   ]
  },
  {
   "cell_type": "code",
   "execution_count": 3,
   "metadata": {
    "scrolled": true
   },
   "outputs": [
    {
     "name": "stderr",
     "output_type": "stream",
     "text": [
      "C:\\Users\\howil\\AppData\\Local\\Temp\\ipykernel_3460\\1931228805.py:1: DeprecationWarning: executable_path has been deprecated, please pass in a Service object\n",
      "  driver = webdriver.Chrome(\"c:/chrome/chromedriver.exe\")\n"
     ]
    }
   ],
   "source": [
    "driver = webdriver.Chrome(\"c:/chrome/chromedriver.exe\")"
   ]
  },
  {
   "cell_type": "code",
   "execution_count": 4,
   "metadata": {},
   "outputs": [],
   "source": [
    "driver.get(\"http://www.koreabaseball.com\")"
   ]
  },
  {
   "cell_type": "code",
   "execution_count": null,
   "metadata": {},
   "outputs": [],
   "source": [
    "#cphContents_cphContents_cphContents_ddlTeam > option:nth-child(8)\n",
    "#cphContents_cphContents_cphContents_ddlTeam > option:nth-child(10)"
   ]
  },
  {
   "cell_type": "code",
   "execution_count": 7,
   "metadata": {},
   "outputs": [],
   "source": [
    "from selenium.webdriver.common.by import By\n",
    "driver.find_element(By.CSS_SELECTOR,\"#lnb > li:nth-child(4) > a\").click()"
   ]
  },
  {
   "cell_type": "code",
   "execution_count": 8,
   "metadata": {},
   "outputs": [],
   "source": [
    "select_team = \"#cphContents_cphContents_cphContents_ddlTeam > option:nth-child({})\""
   ]
  },
  {
   "cell_type": "code",
   "execution_count": 9,
   "metadata": {},
   "outputs": [],
   "source": [
    "select_page = \"#cphContents_cphContents_cphContents_ucPager_btnNo{}\""
   ]
  },
  {
   "cell_type": "code",
   "execution_count": 10,
   "metadata": {},
   "outputs": [],
   "source": [
    "import time"
   ]
  },
  {
   "cell_type": "code",
   "execution_count": 11,
   "metadata": {},
   "outputs": [
    {
     "name": "stdout",
     "output_type": "stream",
     "text": [
      "Message: no such element: Unable to locate element: {\"method\":\"css selector\",\"selector\":\"#cphContents_cphContents_cphContents_ucPager_btnNo5\"}\n",
      "  (Session info: chrome=105.0.5195.127)\n",
      "Stacktrace:\n",
      "Backtrace:\n",
      "\tOrdinal0 [0x002978B3+2193587]\n",
      "\tOrdinal0 [0x00230681+1771137]\n",
      "\tOrdinal0 [0x001441A8+803240]\n",
      "\tOrdinal0 [0x001724A0+992416]\n",
      "\tOrdinal0 [0x0017273B+993083]\n",
      "\tOrdinal0 [0x0019F7C2+1177538]\n",
      "\tOrdinal0 [0x0018D7F4+1103860]\n",
      "\tOrdinal0 [0x0019DAE2+1170146]\n",
      "\tOrdinal0 [0x0018D5C6+1103302]\n",
      "\tOrdinal0 [0x001677E0+948192]\n",
      "\tOrdinal0 [0x001686E6+952038]\n",
      "\tGetHandleVerifier [0x00540CB2+2738370]\n",
      "\tGetHandleVerifier [0x005321B8+2678216]\n",
      "\tGetHandleVerifier [0x003217AA+512954]\n",
      "\tGetHandleVerifier [0x00320856+509030]\n",
      "\tOrdinal0 [0x0023743B+1799227]\n",
      "\tOrdinal0 [0x0023BB68+1817448]\n",
      "\tOrdinal0 [0x0023BC55+1817685]\n",
      "\tOrdinal0 [0x00245230+1856048]\n",
      "\tBaseThreadInitThunk [0x76D7FA29+25]\n",
      "\tRtlGetAppContainerNamedObjectPath [0x77AA7C3E+286]\n",
      "\tRtlGetAppContainerNamedObjectPath [0x77AA7C0E+238]\n",
      "\t(No symbol) [0x00000000]\n",
      "\n"
     ]
    }
   ],
   "source": [
    "playid = []\n",
    "for x in range(2,12):\n",
    "    for_1 = select_team.format(x)\n",
    "    driver.find_element(By.CSS_SELECTOR, for_1).click()\n",
    "    time.sleep(2)\n",
    "    #playid.extend(pattern.findall(driver.page_source))\n",
    "    for y in range(1,6):\n",
    "        f2 = select_page.format(y)\n",
    "        try:\n",
    "            driver.find_element(By.CSS_SELECTOR, f2).click()\n",
    "            time.sleep(1)\n",
    "            playid.extend(pattern.findall(driver.page_source))\n",
    "        except Exception as e:\n",
    "            print (e)\n",
    "        time.sleep(2)"
   ]
  },
  {
   "cell_type": "code",
   "execution_count": 13,
   "metadata": {
    "tags": []
   },
   "outputs": [
    {
     "data": {
      "text/plain": [
       "883"
      ]
     },
     "execution_count": 13,
     "metadata": {},
     "output_type": "execute_result"
    }
   ],
   "source": [
    "playid.__len__()"
   ]
  },
  {
   "cell_type": "code",
   "execution_count": 16,
   "metadata": {},
   "outputs": [],
   "source": [
    "import pickle"
   ]
  },
  {
   "cell_type": "code",
   "execution_count": 17,
   "metadata": {},
   "outputs": [],
   "source": [
    "with open(\"./kbo.pkl\", \"wb\") as f:\n",
    "    pickle.dump(playid,f)"
   ]
  },
  {
   "cell_type": "code",
   "execution_count": null,
   "metadata": {},
   "outputs": [],
   "source": []
  },
  {
   "cell_type": "markdown",
   "metadata": {},
   "source": [
    "### 선수들의 세부 항목들을 수집합니다."
   ]
  },
  {
   "cell_type": "code",
   "execution_count": 28,
   "metadata": {},
   "outputs": [],
   "source": [
    "r = requests.get(\"https://www.koreabaseball.com/Record/Player/HitterDetail/Basic.aspx?playerId=62356\")"
   ]
  },
  {
   "cell_type": "code",
   "execution_count": null,
   "metadata": {},
   "outputs": [],
   "source": []
  },
  {
   "cell_type": "markdown",
   "metadata": {},
   "source": [
    "* 이미지를 다운로드 받고 싶다면 아래 코드를 사용합니다."
   ]
  },
  {
   "cell_type": "code",
   "execution_count": 30,
   "metadata": {},
   "outputs": [
    {
     "data": {
      "text/plain": [
       "('./김규민.jpg', <http.client.HTTPMessage at 0x16b931fb9a0>)"
      ]
     },
     "execution_count": 30,
     "metadata": {},
     "output_type": "execute_result"
    }
   ],
   "source": [
    "request.urlretrieve(\"http:\"+BS(r.text).find(\"div\",\\\n",
    "            class_ = \"player_basic\").find(\"img\")['src'], \"./김규민.jpg\")"
   ]
  },
  {
   "cell_type": "markdown",
   "metadata": {},
   "source": [
    "### 사용자 함수를 작성하여 선수들의 세부 정보를 수집합니다."
   ]
  },
  {
   "cell_type": "code",
   "execution_count": 14,
   "metadata": {},
   "outputs": [],
   "source": [
    "def playerID(id_):\n",
    "    play_dict = {}\n",
    "    url = \"https://www.koreabaseball.com/Record/Player/HitterDetail/Basic.aspx?playerId={}\".format(id_)\n",
    "    r = requests.get(url)\n",
    "    #print (r.url)\n",
    "    for x in BS(r.text).find(\"div\",\\\n",
    "                class_ = \"player_basic\").findAll(\"li\"):\n",
    "        rt = [y.strip() for y in x.text.strip().split(\":\")]\n",
    "        play_dict[rt[0]] = rt[1]\n",
    "    play_dict['Team'] = BS(r.text).find(\"h4\", class_=\"team regular/2021/emblem_NC\").text\n",
    "    return play_dict"
   ]
  },
  {
   "cell_type": "code",
   "execution_count": 40,
   "metadata": {},
   "outputs": [],
   "source": []
  },
  {
   "cell_type": "code",
   "execution_count": 15,
   "metadata": {},
   "outputs": [],
   "source": [
    "a = pd.DataFrame([playerID(playid[2])])"
   ]
  },
  {
   "cell_type": "code",
   "execution_count": 16,
   "metadata": {},
   "outputs": [
    {
     "data": {
      "text/html": [
       "<div>\n",
       "<style scoped>\n",
       "    .dataframe tbody tr th:only-of-type {\n",
       "        vertical-align: middle;\n",
       "    }\n",
       "\n",
       "    .dataframe tbody tr th {\n",
       "        vertical-align: top;\n",
       "    }\n",
       "\n",
       "    .dataframe thead th {\n",
       "        text-align: right;\n",
       "    }\n",
       "</style>\n",
       "<table border=\"1\" class=\"dataframe\">\n",
       "  <thead>\n",
       "    <tr style=\"text-align: right;\">\n",
       "      <th></th>\n",
       "      <th>선수명</th>\n",
       "      <th>등번호</th>\n",
       "      <th>생년월일</th>\n",
       "      <th>포지션</th>\n",
       "      <th>신장/체중</th>\n",
       "      <th>경력</th>\n",
       "      <th>입단 계약금</th>\n",
       "      <th>연봉</th>\n",
       "      <th>지명순위</th>\n",
       "      <th>입단년도</th>\n",
       "      <th>Team</th>\n",
       "    </tr>\n",
       "  </thead>\n",
       "  <tbody>\n",
       "    <tr>\n",
       "      <th>0</th>\n",
       "      <td>강진성</td>\n",
       "      <td>No.49</td>\n",
       "      <td>1993년 10월 19일</td>\n",
       "      <td>내야수(우투우타)</td>\n",
       "      <td>180cm/81kg</td>\n",
       "      <td>가동초-잠신중-경기고-NC-경찰</td>\n",
       "      <td>7000만원</td>\n",
       "      <td>12000만원</td>\n",
       "      <td>12 NC 4라운드 33순위</td>\n",
       "      <td>12NC</td>\n",
       "      <td>NC 다이노스</td>\n",
       "    </tr>\n",
       "  </tbody>\n",
       "</table>\n",
       "</div>"
      ],
      "text/plain": [
       "   선수명    등번호           생년월일        포지션       신장/체중                 경력  \\\n",
       "0  강진성  No.49  1993년 10월 19일  내야수(우투우타)  180cm/81kg  가동초-잠신중-경기고-NC-경찰   \n",
       "\n",
       "   입단 계약금       연봉             지명순위  입단년도     Team  \n",
       "0  7000만원  12000만원  12 NC 4라운드 33순위  12NC  NC 다이노스  "
      ]
     },
     "execution_count": 16,
     "metadata": {},
     "output_type": "execute_result"
    }
   ],
   "source": [
    "a"
   ]
  },
  {
   "cell_type": "code",
   "execution_count": 48,
   "metadata": {},
   "outputs": [],
   "source": [
    "b = pd.DataFrame([playerID(playid[3])])"
   ]
  },
  {
   "cell_type": "code",
   "execution_count": 49,
   "metadata": {},
   "outputs": [
    {
     "data": {
      "text/html": [
       "<div>\n",
       "<style scoped>\n",
       "    .dataframe tbody tr th:only-of-type {\n",
       "        vertical-align: middle;\n",
       "    }\n",
       "\n",
       "    .dataframe tbody tr th {\n",
       "        vertical-align: top;\n",
       "    }\n",
       "\n",
       "    .dataframe thead th {\n",
       "        text-align: right;\n",
       "    }\n",
       "</style>\n",
       "<table border=\"1\" class=\"dataframe\">\n",
       "  <thead>\n",
       "    <tr style=\"text-align: right;\">\n",
       "      <th></th>\n",
       "      <th>선수명</th>\n",
       "      <th>등번호</th>\n",
       "      <th>생년월일</th>\n",
       "      <th>포지션</th>\n",
       "      <th>신장/체중</th>\n",
       "      <th>경력</th>\n",
       "      <th>입단 계약금</th>\n",
       "      <th>연봉</th>\n",
       "      <th>지명순위</th>\n",
       "      <th>입단년도</th>\n",
       "      <th>Team</th>\n",
       "    </tr>\n",
       "  </thead>\n",
       "  <tbody>\n",
       "    <tr>\n",
       "      <th>0</th>\n",
       "      <td>강진성</td>\n",
       "      <td>No.49</td>\n",
       "      <td>1993년 10월 19일</td>\n",
       "      <td>내야수(우투우타)</td>\n",
       "      <td>180cm/81kg</td>\n",
       "      <td>가동초-잠신중-경기고-NC-경찰</td>\n",
       "      <td>7000만원</td>\n",
       "      <td>12000만원</td>\n",
       "      <td>12 NC 4라운드 33순위</td>\n",
       "      <td>12NC</td>\n",
       "      <td>NC 다이노스</td>\n",
       "    </tr>\n",
       "    <tr>\n",
       "      <th>0</th>\n",
       "      <td>강태경</td>\n",
       "      <td>No.78</td>\n",
       "      <td>2001년 07월 26일</td>\n",
       "      <td>투수(우투좌타)</td>\n",
       "      <td>188cm/95kg</td>\n",
       "      <td>양덕초-잠실중-배명고</td>\n",
       "      <td>7000만원</td>\n",
       "      <td>3000만원</td>\n",
       "      <td>20 NC 2차 5라운드 41순위</td>\n",
       "      <td></td>\n",
       "      <td>NC 다이노스</td>\n",
       "    </tr>\n",
       "  </tbody>\n",
       "</table>\n",
       "</div>"
      ],
      "text/plain": [
       "   선수명    등번호           생년월일        포지션       신장/체중                 경력  \\\n",
       "0  강진성  No.49  1993년 10월 19일  내야수(우투우타)  180cm/81kg  가동초-잠신중-경기고-NC-경찰   \n",
       "0  강태경  No.78  2001년 07월 26일   투수(우투좌타)  188cm/95kg        양덕초-잠실중-배명고   \n",
       "\n",
       "   입단 계약금       연봉                지명순위  입단년도     Team  \n",
       "0  7000만원  12000만원     12 NC 4라운드 33순위  12NC  NC 다이노스  \n",
       "0  7000만원   3000만원  20 NC 2차 5라운드 41순위        NC 다이노스  "
      ]
     },
     "execution_count": 49,
     "metadata": {},
     "output_type": "execute_result"
    }
   ],
   "source": [
    "pd.concat([a,b])"
   ]
  }
 ],
 "metadata": {
  "kernelspec": {
   "display_name": "Python 3 (ipykernel)",
   "language": "python",
   "name": "python3"
  },
  "language_info": {
   "codemirror_mode": {
    "name": "ipython",
    "version": 3
   },
   "file_extension": ".py",
   "mimetype": "text/x-python",
   "name": "python",
   "nbconvert_exporter": "python",
   "pygments_lexer": "ipython3",
   "version": "3.9.12"
  }
 },
 "nbformat": 4,
 "nbformat_minor": 4
}
